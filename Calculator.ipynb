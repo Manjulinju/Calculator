def calculator():
    print("Simple Calculator")
    print("Basic functions are +, -, *, /")
    while True:
        try:
            n1 = float(input("Enter first number"))
            operator = input("enter operator + - * /")
            n2 = float(input("Enter second number"))
            if operator == '+':
                result= n1 + n2
            elif operator == '-':
                result = n1-n2
            elif operator == '*':
                result = n1*n2
            elif operator == '/':
                result = n1/n2
            else:
                print("Invalid operator")
            print(f"result{result}")
            choice =print("Do you want more opearions?(Y/N):")
            if(choice.lower() != 'y'):
                print("Session ended!")
                break
        except ValueError:
            print("Invalid input")
            
            
              
calculator()
        
        
