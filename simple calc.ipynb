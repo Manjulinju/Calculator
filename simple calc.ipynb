{
 "cells": [
  {
   "cell_type": "code",
   "execution_count": null,
   "id": "11a0eecb",
   "metadata": {},
   "outputs": [],
   "source": [
    "def calculator():\n",
    "    print(\"Simple Calculator\")\n",
    "    print(\"Basic functions are +, -, *, /\")\n",
    "    while True:\n",
    "        try:\n",
    "            n1 = float(input(\"Enter first number\"))\n",
    "            operator = input(\"enter operator + - * /\")\n",
    "            n2 = float(input(\"Enter second number\"))\n",
    "            if operator == '+':\n",
    "                result= n1 + n2\n",
    "            elif operator == '-':\n",
    "                result = n1-n2\n",
    "            elif operator == '*':\n",
    "                result = n1*n2\n",
    "            elif operator == '/':\n",
    "                result = n1/n2\n",
    "            else:\n",
    "                print(\"Invalid operator\")\n",
    "            print(f\"result:{result}\")\n",
    "            choice =print(\"Do you want more opearions?(Y/N):\")\n",
    "            if(choice.lower() != 'y'):\n",
    "                print(\"Session ended!\")\n",
    "                break\n",
    "        except ValueError:\n",
    "            print(\"Invalid input\")\n",
    "            \n",
    "            \n",
    "              \n",
    "calculator()"
   ]
  },
  {
   "cell_type": "code",
   "execution_count": null,
   "id": "d4c2e7b1",
   "metadata": {},
   "outputs": [],
   "source": []
  },
  {
   "cell_type": "code",
   "execution_count": null,
   "id": "aa22422a",
   "metadata": {},
   "outputs": [],
   "source": []
  },
  {
   "cell_type": "code",
   "execution_count": null,
   "id": "e8bc57b0",
   "metadata": {},
   "outputs": [],
   "source": []
  }
 ],
 "metadata": {
  "kernelspec": {
   "display_name": "Python 3 (ipykernel)",
   "language": "python",
   "name": "python3"
  },
  "language_info": {
   "codemirror_mode": {
    "name": "ipython",
    "version": 3
   },
   "file_extension": ".py",
   "mimetype": "text/x-python",
   "name": "python",
   "nbconvert_exporter": "python",
   "pygments_lexer": "ipython3",
   "version": "3.10.12"
  }
 },
 "nbformat": 4,
 "nbformat_minor": 5
}
