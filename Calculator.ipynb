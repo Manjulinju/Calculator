{
 "cells": [
  {
   "cell_type": "code",
   "execution_count": 2,
   "id": "31fb452d",
   "metadata": {},
   "outputs": [
    {
     "name": "stdout",
     "output_type": "stream",
     "text": [
      "Simple Calculator\n",
      "Basic functions are +, -, *, /\n",
      "Enter first number4\n",
      "enter operator + - * //\n",
      "Enter second number5\n",
      "result0.8\n",
      "Do you want more opearions?(Y/N):\n"
     ]
    },
    {
     "ename": "AttributeError",
     "evalue": "'NoneType' object has no attribute 'lower'",
     "output_type": "error",
     "traceback": [
      "\u001b[1;31m---------------------------------------------------------------------------\u001b[0m",
      "\u001b[1;31mAttributeError\u001b[0m                            Traceback (most recent call last)",
      "Cell \u001b[1;32mIn[2], line 29\u001b[0m\n\u001b[0;32m     24\u001b[0m         \u001b[38;5;28;01mexcept\u001b[39;00m \u001b[38;5;167;01mValueError\u001b[39;00m:\n\u001b[0;32m     25\u001b[0m             \u001b[38;5;28mprint\u001b[39m(\u001b[38;5;124m\"\u001b[39m\u001b[38;5;124mInvalid input\u001b[39m\u001b[38;5;124m\"\u001b[39m)\n\u001b[1;32m---> 29\u001b[0m \u001b[43mcalculator\u001b[49m\u001b[43m(\u001b[49m\u001b[43m)\u001b[49m\n",
      "Cell \u001b[1;32mIn[2], line 21\u001b[0m, in \u001b[0;36mcalculator\u001b[1;34m()\u001b[0m\n\u001b[0;32m     19\u001b[0m \u001b[38;5;28mprint\u001b[39m(\u001b[38;5;124mf\u001b[39m\u001b[38;5;124m\"\u001b[39m\u001b[38;5;124mresult\u001b[39m\u001b[38;5;132;01m{\u001b[39;00mresult\u001b[38;5;132;01m}\u001b[39;00m\u001b[38;5;124m\"\u001b[39m)\n\u001b[0;32m     20\u001b[0m choice \u001b[38;5;241m=\u001b[39m\u001b[38;5;28mprint\u001b[39m(\u001b[38;5;124m\"\u001b[39m\u001b[38;5;124mDo you want more opearions?(Y/N):\u001b[39m\u001b[38;5;124m\"\u001b[39m)\n\u001b[1;32m---> 21\u001b[0m \u001b[38;5;28;01mif\u001b[39;00m(\u001b[43mchoice\u001b[49m\u001b[38;5;241;43m.\u001b[39;49m\u001b[43mlower\u001b[49m() \u001b[38;5;241m!=\u001b[39m \u001b[38;5;124m'\u001b[39m\u001b[38;5;124my\u001b[39m\u001b[38;5;124m'\u001b[39m):\n\u001b[0;32m     22\u001b[0m     \u001b[38;5;28mprint\u001b[39m(\u001b[38;5;124m\"\u001b[39m\u001b[38;5;124mSession ended!\u001b[39m\u001b[38;5;124m\"\u001b[39m)\n\u001b[0;32m     23\u001b[0m     \u001b[38;5;28;01mbreak\u001b[39;00m\n",
      "\u001b[1;31mAttributeError\u001b[0m: 'NoneType' object has no attribute 'lower'"
     ]
    }
   ],
   "source": [
    "def calculator():\n",
    "    print(\"Simple Calculator\")\n",
    "    print(\"Basic functions are +, -, *, /\")\n",
    "    while True:\n",
    "        try:\n",
    "            n1 = float(input(\"Enter first number\"))\n",
    "            operator = input(\"enter operator + - * /\")\n",
    "            n2 = float(input(\"Enter second number\"))\n",
    "            if operator == '+':\n",
    "                result= n1 + n2\n",
    "            elif operator == '-':\n",
    "                result = n1-n2\n",
    "            elif operator == '*':\n",
    "                result = n1*n2\n",
    "            elif operator == '/':\n",
    "                result = n1/n2\n",
    "            else:\n",
    "                print(\"Invalid operator\")\n",
    "            print(f\"result{result}\")\n",
    "            choice =print(\"Do you want more opearions?(Y/N):\")\n",
    "            if(choice.lower() != 'y'):\n",
    "                print(\"Session ended!\")\n",
    "                break\n",
    "        except ValueError:\n",
    "            print(\"Invalid input\")\n",
    "            \n",
    "            \n",
    "              \n",
    "calculator()\n",
    "        \n",
    "        \n"
   ]
  },
  {
   "cell_type": "code",
   "execution_count": null,
   "id": "4ec3bb07",
   "metadata": {},
   "outputs": [],
   "source": []
  },
  {
   "cell_type": "markdown",
   "id": "da7d366e",
   "metadata": {},
   "source": [
    "password generatior"
   ]
  },
  {
   "cell_type": "code",
   "execution_count": 1,
   "id": "a7c83c17",
   "metadata": {},
   "outputs": [
    {
     "name": "stdout",
     "output_type": "stream",
     "text": [
      "Enter the length of password5\n",
      "Generated password: ZuDu{\n"
     ]
    }
   ],
   "source": [
    "import string\n",
    "import secrets\n",
    "password_length  = int(input(\"Enter the length of password\"))\n",
    "if(password_length) < 0:\n",
    "    print(\"Enter the length\")\n",
    "elif(password_length) >12:\n",
    "        print(\"Max. length should be 12\")\n",
    "    \n",
    "else:\n",
    "    letters = string.ascii_letters\n",
    "    digits = string.digits\n",
    "    special_char = string.punctuation\n",
    "    alphabet = letters+digits+special_char\n",
    "\n",
    "    pwd=''\n",
    "    for i in range(password_length):\n",
    "        pwd+=''.join(secrets.choice(alphabet))\n",
    "    print(\"Generated password:\",pwd)\n",
    "    \n"
   ]
  },
  {
   "cell_type": "code",
   "execution_count": null,
   "id": "28406194",
   "metadata": {},
   "outputs": [],
   "source": []
  }
 ],
 "metadata": {
  "kernelspec": {
   "display_name": "Python 3 (ipykernel)",
   "language": "python",
   "name": "python3"
  },
  "language_info": {
   "codemirror_mode": {
    "name": "ipython",
    "version": 3
   },
   "file_extension": ".py",
   "mimetype": "text/x-python",
   "name": "python",
   "nbconvert_exporter": "python",
   "pygments_lexer": "ipython3",
   "version": "3.10.12"
  }
 },
 "nbformat": 4,
 "nbformat_minor": 5
}
